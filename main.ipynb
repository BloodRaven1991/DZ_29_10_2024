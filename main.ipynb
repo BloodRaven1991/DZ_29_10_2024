{
 "cells": [
  {
   "cell_type": "code",
   "execution_count": 1,
   "metadata": {},
   "outputs": [
    {
     "name": "stdout",
     "output_type": "stream",
     "text": [
      "Список покупок:\n",
      "Хлеб: 2\n",
      "Молоко: 1\n",
      "Яйца: 10 \n",
      "\n",
      "Список покупок:\n",
      "Хлеб: 2\n",
      "Яйца: 10 \n",
      "\n",
      "Список покупок:\n",
      "Хлеб: 2\n",
      "Яйца: 7 \n",
      "\n",
      "Список покупок:\n",
      "Хлеб: 4\n",
      "Яйца: 17\n",
      "Молоко: 2\n"
     ]
    }
   ],
   "source": [
    "#Создайте модуль \"shopping_list.py\", который будет реализовывать функционал списка покупок. \n",
    "# Внутри должны быть функции add_item (для добавления в список, например «Хлеб, 2», где «Хлеб» - \n",
    "# ключ, «2» - значение, которой по умолчанию в функции равно 0), remove_item для удаления \n",
    "# покупки из списка, edit_quantity для редактирования количества (то есть значения), view_list \n",
    "# для отображения всего списка (то есть словаря). Создайте новый файл, куда вы импортируете \n",
    "# созданный модуль и отобразите работу каждый из этих функций. Например, пользователь сначала \n",
    "# добавил в список три покупки: Хлеб – 2, Молоко, Яйца – 10, далее посмотрел этот список; потом \n",
    "# он понял, что не хочет молоко, удалил его, посмотрел измененный список; потом решил, что 10 \n",
    "# яиц – это много, и поменял их количество на 7 и в конце решил посмотреть на итоговый список.\n",
    "\n",
    "#Дополнительно: улучшите функционал, если вы, конечно, изначально так не сделали, следующим \n",
    "# образом. Если добавляемый объект уже содержится в списке (например, «Хлеб» уже есть, но мы \n",
    "# хотим добавить его еще раз), то он не добавляет в словарь новую строку, а прибавляет \n",
    "# количество (значение) к этому же наименованию. Заодно повторите работу со словарями \n",
    "\n",
    "import shopping_list\n",
    "\n",
    "shopping_list.add_item(\"Хлеб\", 2)\n",
    "shopping_list.add_item(\"Молоко\", 1)\n",
    "shopping_list.add_item(\"Яйца\", 10)\n",
    "print(shopping_list.view_list(), '\\n')\n",
    "    \n",
    "shopping_list.remove_item(\"Молоко\")\n",
    "print(shopping_list.view_list(), '\\n')\n",
    "    \n",
    "shopping_list.edit_quantity(\"Яйца\", 7)\n",
    "print(shopping_list.view_list(), '\\n')\n",
    "    \n",
    "shopping_list.add_item(\"Хлеб\", 2)\n",
    "shopping_list.add_item(\"Молоко\", 2)\n",
    "shopping_list.add_item(\"Яйца\", 10)\n",
    "print(shopping_list.view_list())\n"
   ]
  },
  {
   "cell_type": "code",
   "execution_count": null,
   "metadata": {},
   "outputs": [],
   "source": []
  }
 ],
 "metadata": {
  "kernelspec": {
   "display_name": "Python 3",
   "language": "python",
   "name": "python3"
  },
  "language_info": {
   "codemirror_mode": {
    "name": "ipython",
    "version": 3
   },
   "file_extension": ".py",
   "mimetype": "text/x-python",
   "name": "python",
   "nbconvert_exporter": "python",
   "pygments_lexer": "ipython3",
   "version": "3.12.6"
  }
 },
 "nbformat": 4,
 "nbformat_minor": 2
}
