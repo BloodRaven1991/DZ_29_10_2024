{
 "cells": [
  {
   "cell_type": "code",
   "execution_count": 1,
   "metadata": {},
   "outputs": [
    {
     "name": "stdout",
     "output_type": "stream",
     "text": [
      "Список покупок:\n",
      "Хлеб: 2\n",
      "Молоко: 1\n",
      "Яйца: 10 \n",
      "\n",
      "Список покупок:\n",
      "Хлеб: 2\n",
      "Яйца: 10 \n",
      "\n",
      "Список покупок:\n",
      "Хлеб: 2\n",
      "Яйца: 7 \n",
      "\n",
      "Список покупок:\n",
      "Хлеб: 4\n",
      "Яйца: 17\n",
      "Молоко: 2\n"
     ]
    }
   ],
   "source": [
    "import shopping_list\n",
    "\n",
    "shopping_list.add_item(\"Хлеб\", 2)\n",
    "shopping_list.add_item(\"Молоко\", 1)\n",
    "shopping_list.add_item(\"Яйца\", 10)\n",
    "print(shopping_list.view_list(), '\\n')\n",
    "    \n",
    "shopping_list.remove_item(\"Молоко\")\n",
    "print(shopping_list.view_list(), '\\n')\n",
    "    \n",
    "shopping_list.edit_quantity(\"Яйца\", 7)\n",
    "print(shopping_list.view_list(), '\\n')\n",
    "    \n",
    "shopping_list.add_item(\"Хлеб\", 2)\n",
    "shopping_list.add_item(\"Молоко\", 2)\n",
    "shopping_list.add_item(\"Яйца\", 10)\n",
    "print(shopping_list.view_list())\n"
   ]
  },
  {
   "cell_type": "code",
   "execution_count": null,
   "metadata": {},
   "outputs": [],
   "source": []
  }
 ],
 "metadata": {
  "kernelspec": {
   "display_name": "Python 3",
   "language": "python",
   "name": "python3"
  },
  "language_info": {
   "codemirror_mode": {
    "name": "ipython",
    "version": 3
   },
   "file_extension": ".py",
   "mimetype": "text/x-python",
   "name": "python",
   "nbconvert_exporter": "python",
   "pygments_lexer": "ipython3",
   "version": "3.12.6"
  }
 },
 "nbformat": 4,
 "nbformat_minor": 2
}
